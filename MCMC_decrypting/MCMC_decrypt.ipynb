{
 "cells": [
  {
   "cell_type": "code",
   "execution_count": 1,
   "metadata": {},
   "outputs": [],
   "source": [
    "from MCMC_utiles import * "
   ]
  },
  {
   "cell_type": "code",
   "execution_count": 2,
   "metadata": {},
   "outputs": [
    {
     "name": "stderr",
     "output_type": "stream",
     "text": [
      "/Users/shenyifan/Documents/MCMC_decrypting/MCMC_utiles.py:84: RuntimeWarning: invalid value encountered in true_divide\n",
      "  equ_mtx = np.nan_to_num(count_mtx / normal_rept)\n"
     ]
    }
   ],
   "source": [
    "with open('message.txt','r') as message:\n",
    "    message = message.read()\n",
    "with open('symbols.txt','r') as symbols:\n",
    "    symbols = symbols.read().replace('\\n','')\n",
    "    \n",
    "with open('war_and_peace.txt','r') as war_and_peace:\n",
    "    text_full_symbols = war_and_peace.read().replace('\\n',' ')\n",
    "    \n",
    "war_and_peace = cleanTextFullSymbols(text_full_symbols)\n",
    "\n",
    "# load equ_mtx\n",
    "equ_mtx = generateEquMtx(war_and_peace,symbols) \n",
    "equ_mtx += 0.01  # ensure ergodicity of the chain (small trick, but very crucial!)"
   ]
  },
  {
   "cell_type": "code",
   "execution_count": 3,
   "metadata": {},
   "outputs": [
    {
     "name": "stdout",
     "output_type": "stream",
     "text": [
      "============================================================================================\n",
      "iteration 0 : \n",
      "  [4p1lpl]x4r?!pw4np1]!?pmx;4?!w.;?pl?w!gp1lp/ws-?!prwm?p1?pg]1?pwnm[2?ps-wsp[ m?p.??4psx!4[4rp]m?!p[4p1lp1[4np?m?!pg[42?5p6z-?4?m?!pl]xp/??;p;[7?p2![s[2[0[4rpw4lp]4?,6p-?ps];np1?,p6vxgsp!?1?1.?!ps-wspw;;ps-?pu?]u;?p[4ps-[gpz]!;np-wm?4 sp-wnps-?pwnmw4swr?gps-wspl]x m?p-wn56p-?pn[n4 spgwlpw4lp1]!?p.xspz? m?pw;zwlgp.??4px4xgxw;;lp2]11x4[2ws[m?p[4pwp!?g?!m?npzwl,pw4np[px4n?!gs]]nps-wsp-?p1?w4spwpr!?wspn?w;p1]!?ps-w4ps-ws5p[4p2]4g?9x?42?p[ 1p[42;[4?nps]p!?g?!m?pw;;pvxnr1?4sg,pwp-w.[sps-wsp-wgp]u?4?npxup1w4lp2x![]xgp4wsx!?gps]p1?pw4npw;g]p1wn?p1?ps-?pm[2s[1p]/p4]spwp/?zpm?s?!w4p.]!?g5ps-?pw.4]!1w;p1[\n",
      "----------------------------------------\n",
      "log likelihood for current mapping:  -6349.963364380167\n",
      "log likelihood for proposed swap mapping: -6345.262860968115\n",
      "============================================================================================\n",
      "iteration 5000 : \n",
      "  in m, ,ounger and more vulnerable ,ears m, wather gave me some advice that i-ve been turning over in m, mind ever since; \"zhenever ,ou weel like criticifing an, one.\" he told me. \"just remember that all the people in this zorld haven-t had the advantages that ,ou-ve had;\" he didn-t sa, an, more but ze-ve alza,s been unusuall, communicative in a reserved za,. and i understood that he meant a great deal more than that; in consequence i-m inclined to reserve all judgments. a habit that has opened up man, curious natures to me and also made me the victim ow not a wez veteran bores; the abnormal mi\n",
      "----------------------------------------\n",
      "log likelihood for current mapping:  -3330.2771766627434\n",
      "log likelihood for proposed swap mapping: -3664.593843376454\n",
      "============================================================================================\n",
      "iteration 10000 : \n",
      "  in my younger and more vulnerable years my wather gave me some advice that i(ve been turning over in my mind ever since. \"zhenever you weel like criticifing any one,\" he told me, \"just remember that all the people in this zorld haven(t had the advantages that you(ve had.\" he didn(t say any more but ze(ve alzays been unusually communicative in a reserved zay, and i understood that he meant a great deal more than that. in consequence i(m inclined to reserve all judgments, a habit that has opened up many curious natures to me and also made me the victim ow not a wez veteran bores. the abnormal mi\n",
      "----------------------------------------\n",
      "log likelihood for current mapping:  -3292.3306454187236\n",
      "log likelihood for proposed swap mapping: -3900.921737970414\n",
      "============================================================================================\n",
      "iteration 15000 : \n",
      "  in my younger and more vulnerable years my father gave me some advice that i(ve been turning over in my mind ever since. \"zhenever you feel like criticiwing any one,\" he told me, \"just remember that all the people in this zorld haven(t had the advantages that you(ve had.\" he didn(t say any more but ze(ve alzays been unusually communicative in a reserved zay, and i understood that he meant a great deal more than that. in consequence i(m inclined to reserve all judgments, a habit that has opened up many curious natures to me and also made me the victim of not a fez veteran bores. the abnormal mi\n",
      "----------------------------------------\n",
      "log likelihood for current mapping:  -3282.8879027270355\n",
      "log likelihood for proposed swap mapping: -3362.3795261071236\n",
      "============================================================================================\n",
      "iteration 20000 : \n",
      "  in my younger and more vulnerable years my father gave me some advice that i(ve been turning over in my mind ever since. \"zhenever you feel like criticiwing any one,\" he told me, \"just remember that all the people in this zorld haven(t had the advantages that you(ve had.\" he didn(t say any more but ze(ve alzays been unusually communicative in a reserved zay, and i understood that he meant a great deal more than that. in consequence i(m inclined to reserve all judgments, a habit that has opened up many curious natures to me and also made me the victim of not a fez veteran bores. the abnormal mi\n",
      "----------------------------------------\n",
      "log likelihood for current mapping:  -3282.8879027270355\n",
      "log likelihood for proposed swap mapping: -3282.8879027270355\n",
      "============================================================================================\n",
      "iteration 25000 : \n",
      "  in my younger and more vulnerable years my father gave me some advice that i(ve been turning over in my mind ever since. \"zhenever you feel like criticiwing any one,\" he told me, \"just remember that all the people in this zorld haven(t had the advantages that you(ve had.\" he didn(t say any more but ze(ve alzays been unusually communicative in a reserved zay, and i understood that he meant a great deal more than that. in consequence i(m inclined to reserve all judgments, a habit that has opened up many curious natures to me and also made me the victim of not a fez veteran bores. the abnormal mi\n",
      "----------------------------------------\n",
      "log likelihood for current mapping:  -3282.8879027270355\n",
      "log likelihood for proposed swap mapping: -3381.9667948749416\n"
     ]
    }
   ],
   "source": [
    "decrypt_key = metropolisHastingDecrypt(30000, message, equ_mtx, symbols)"
   ]
  },
  {
   "cell_type": "markdown",
   "metadata": {
    "collapsed": true
   },
   "source": [
    "##### After 15k interations, the decryption reached optimal state with log likelihood reaching maximum at -3282.88\n",
    "##### Then all proposed swap are worse than this state with lower log likelihood\n",
    "##### This course is taught by Gatsby Unit at UCL, the decrypted \"message\" is actually the starting page of \"The Great Gatsby\" book..."
   ]
  }
 ],
 "metadata": {
  "kernelspec": {
   "display_name": "Python 3",
   "language": "python",
   "name": "python3"
  },
  "language_info": {
   "codemirror_mode": {
    "name": "ipython",
    "version": 3
   },
   "file_extension": ".py",
   "mimetype": "text/x-python",
   "name": "python",
   "nbconvert_exporter": "python",
   "pygments_lexer": "ipython3",
   "version": "3.8.3"
  }
 },
 "nbformat": 4,
 "nbformat_minor": 2
}
